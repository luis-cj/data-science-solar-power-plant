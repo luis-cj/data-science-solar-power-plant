{
 "cells": [
  {
   "attachments": {},
   "cell_type": "markdown",
   "metadata": {},
   "source": [
    "# Analysis and insights Python script: Solar power plant generation analysis\n",
    "## Part 3: Analysis and insights"
   ]
  },
  {
   "cell_type": "markdown",
   "metadata": {},
   "source": []
  }
 ],
 "metadata": {
  "kernelspec": {
   "display_name": "Python 3",
   "language": "python",
   "name": "python3"
  },
  "language_info": {
   "name": "python",
   "version": "3.9.13"
  },
  "orig_nbformat": 4,
  "vscode": {
   "interpreter": {
    "hash": "2789caef645d45bff6716333081153e0abcdca1b280055be67a93206d3f61efc"
   }
  }
 },
 "nbformat": 4,
 "nbformat_minor": 2
}
